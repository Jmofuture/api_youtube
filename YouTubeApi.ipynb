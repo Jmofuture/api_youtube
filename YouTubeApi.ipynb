{
 "cells": [
  {
   "cell_type": "code",
   "execution_count": 35,
   "metadata": {},
   "outputs": [],
   "source": [
    "import pandas as pd\n",
    "import openpyxl as opxl\n",
    "from googleapiclient.discovery import build\n",
    "from IPython.display import JSON\n",
    "import isodate"
   ]
  },
  {
   "cell_type": "code",
   "execution_count": 3,
   "metadata": {},
   "outputs": [],
   "source": [
    "API_KEY = ''"
   ]
  },
  {
   "cell_type": "code",
   "execution_count": 4,
   "metadata": {},
   "outputs": [],
   "source": [
    "channel_id = ['UC2pmfLm7iq6Ov1UwYrWYkZA']"
   ]
  },
  {
   "cell_type": "code",
   "execution_count": 5,
   "metadata": {},
   "outputs": [],
   "source": [
    "api_service_name = \"youtube\"\n",
    "api_version = \"v3\"\n",
    "    # Get credentials and create an API client\n",
    "youtube = build(api_service_name, api_version, developerKey = API_KEY)"
   ]
  },
  {
   "cell_type": "code",
   "execution_count": 6,
   "metadata": {},
   "outputs": [],
   "source": [
    "def get_channel_info(youtube, channel_id):\n",
    "    \n",
    "    all_data = []\n",
    "\n",
    "    request = youtube.channels().list(\n",
    "    part=\"snippet,contentDetails,statistics\",\n",
    "    id=','.join(channel_id)\n",
    "    )\n",
    "    response = request.execute()\n",
    "\n",
    "    for item in response['items']:\n",
    "        data = {'channelName':item['snippet']['title'],\n",
    "                'subscibres': item['statistics']['subscriberCount'],\n",
    "                'views': item['statistics']['viewCount'],\n",
    "                'totalViews': item['statistics']['videoCount'],\n",
    "                'playlistId': item['contentDetails']['relatedPlaylists']['uploads']}\n",
    "        all_data.append(data)\n",
    "\n",
    "    return pd.DataFrame(all_data)"
   ]
  },
  {
   "cell_type": "code",
   "execution_count": 7,
   "metadata": {},
   "outputs": [],
   "source": [
    "channel_stats = get_channel_info(youtube, channel_id)"
   ]
  },
  {
   "cell_type": "code",
   "execution_count": 8,
   "metadata": {},
   "outputs": [
    {
     "data": {
      "text/html": [
       "<div>\n",
       "<style scoped>\n",
       "    .dataframe tbody tr th:only-of-type {\n",
       "        vertical-align: middle;\n",
       "    }\n",
       "\n",
       "    .dataframe tbody tr th {\n",
       "        vertical-align: top;\n",
       "    }\n",
       "\n",
       "    .dataframe thead th {\n",
       "        text-align: right;\n",
       "    }\n",
       "</style>\n",
       "<table border=\"1\" class=\"dataframe\">\n",
       "  <thead>\n",
       "    <tr style=\"text-align: right;\">\n",
       "      <th></th>\n",
       "      <th>channelName</th>\n",
       "      <th>subscibres</th>\n",
       "      <th>views</th>\n",
       "      <th>totalViews</th>\n",
       "      <th>playlistId</th>\n",
       "    </tr>\n",
       "  </thead>\n",
       "  <tbody>\n",
       "    <tr>\n",
       "      <th>0</th>\n",
       "      <td>Vevo</td>\n",
       "      <td>20000000</td>\n",
       "      <td>561095032</td>\n",
       "      <td>1536</td>\n",
       "      <td>UU2pmfLm7iq6Ov1UwYrWYkZA</td>\n",
       "    </tr>\n",
       "  </tbody>\n",
       "</table>\n",
       "</div>"
      ],
      "text/plain": [
       "  channelName subscibres      views totalViews                playlistId\n",
       "0        Vevo   20000000  561095032       1536  UU2pmfLm7iq6Ov1UwYrWYkZA"
      ]
     },
     "execution_count": 8,
     "metadata": {},
     "output_type": "execute_result"
    }
   ],
   "source": [
    "channel_stats"
   ]
  },
  {
   "cell_type": "code",
   "execution_count": 9,
   "metadata": {},
   "outputs": [],
   "source": [
    "playlist_id = \"UU2pmfLm7iq6Ov1UwYrWYkZA\"\n",
    "\n",
    "def get_video_ids(youtube,playlist_id):\n",
    "\n",
    "    video_ids = []\n",
    "\n",
    "    request = youtube.playlistItems().list(\n",
    "        part=\"snippet,contentDetails\",\n",
    "        playlistId = playlist_id,\n",
    "        maxResults = 50\n",
    "    )\n",
    "    response = request.execute()\n",
    "\n",
    "    for item in response['items']:\n",
    "        video_ids.append(item['contentDetails']['videoId'])\n",
    "\n",
    "    next_page_token = response.get('nextPageToken')\n",
    "    while next_page_token is not None:\n",
    "        request = youtube.playlistItems().list(\n",
    "        part=\"snippet,contentDetails\",\n",
    "        playlistId = playlist_id,\n",
    "        maxResults = 50,\n",
    "        pageToken = next_page_token)\n",
    "        response = request.execute()\n",
    "\n",
    "        for item in response['items']:\n",
    "            video_ids.append(item['contentDetails']['videoId'])\n",
    "\n",
    "        next_page_token = response.get('nextPageToken')\n",
    "\n",
    "    return video_ids"
   ]
  },
  {
   "cell_type": "code",
   "execution_count": 10,
   "metadata": {},
   "outputs": [],
   "source": [
    "video_ids = get_video_ids(youtube,playlist_id)"
   ]
  },
  {
   "cell_type": "code",
   "execution_count": 11,
   "metadata": {},
   "outputs": [
    {
     "data": {
      "text/plain": [
       "1536"
      ]
     },
     "execution_count": 11,
     "metadata": {},
     "output_type": "execute_result"
    }
   ],
   "source": [
    "len(video_ids)"
   ]
  },
  {
   "cell_type": "code",
   "execution_count": 12,
   "metadata": {},
   "outputs": [],
   "source": [
    "def get_video_details(youtube, video_ids):\n",
    "\n",
    "    all_video_info = []\n",
    "\n",
    "    for i in range(0, len(video_ids),50):\n",
    "\n",
    "        request = youtube.videos().list(\n",
    "            part=\"snippet,contentDetails,statistics\",\n",
    "            id = ','.join(video_ids[i:i+50])\n",
    "        )\n",
    "        response = request.execute()\n",
    "\n",
    "        JSON(response)\n",
    "\n",
    "        for video in response['items']:\n",
    "            stats_to_keep = {'snippet': ['channelTitle', 'title', 'description', 'tags', 'publishedAt'],\n",
    "                            'statistics': ['viewCount', 'likeCount', 'favouriteCount', 'commentCount'],\n",
    "                            'contentDetails': ['duration', 'definition', 'caption']}\n",
    "            video_info = {}\n",
    "            video_info['video_id'] = video['id']\n",
    "\n",
    "            for k in stats_to_keep.keys():\n",
    "                for v in stats_to_keep[k]:\n",
    "                    try:\n",
    "                        video_info[v] = video[k][v]\n",
    "                    except:\n",
    "                        video_info[v] = None\n",
    "\n",
    "            all_video_info.append(video_info)\n",
    "\n",
    "    return pd.DataFrame(all_video_info)"
   ]
  },
  {
   "cell_type": "code",
   "execution_count": 24,
   "metadata": {},
   "outputs": [
    {
     "data": {
      "text/html": [
       "<div>\n",
       "<style scoped>\n",
       "    .dataframe tbody tr th:only-of-type {\n",
       "        vertical-align: middle;\n",
       "    }\n",
       "\n",
       "    .dataframe tbody tr th {\n",
       "        vertical-align: top;\n",
       "    }\n",
       "\n",
       "    .dataframe thead th {\n",
       "        text-align: right;\n",
       "    }\n",
       "</style>\n",
       "<table border=\"1\" class=\"dataframe\">\n",
       "  <thead>\n",
       "    <tr style=\"text-align: right;\">\n",
       "      <th></th>\n",
       "      <th>video_id</th>\n",
       "      <th>channelTitle</th>\n",
       "      <th>title</th>\n",
       "      <th>description</th>\n",
       "      <th>tags</th>\n",
       "      <th>publishedAt</th>\n",
       "      <th>viewCount</th>\n",
       "      <th>likeCount</th>\n",
       "      <th>favouriteCount</th>\n",
       "      <th>commentCount</th>\n",
       "      <th>duration</th>\n",
       "      <th>definition</th>\n",
       "      <th>caption</th>\n",
       "    </tr>\n",
       "  </thead>\n",
       "  <tbody>\n",
       "    <tr>\n",
       "      <th>0</th>\n",
       "      <td>yh6WxdKr94A</td>\n",
       "      <td>Vevo</td>\n",
       "      <td>Hip-Hop Video Weekly: Doja Cat \"Paint The Town...</td>\n",
       "      <td>Our latest Hip-Hop Video Weekly round-up featu...</td>\n",
       "      <td>None</td>\n",
       "      <td>2023-08-07T23:30:11Z</td>\n",
       "      <td>4630</td>\n",
       "      <td>178</td>\n",
       "      <td>None</td>\n",
       "      <td>9</td>\n",
       "      <td>PT15S</td>\n",
       "      <td>hd</td>\n",
       "      <td>false</td>\n",
       "    </tr>\n",
       "    <tr>\n",
       "      <th>1</th>\n",
       "      <td>zUfOsfBgiOk</td>\n",
       "      <td>Vevo</td>\n",
       "      <td>Global Video of the Week: Halle \"Angel\"</td>\n",
       "      <td>Our latest pick for Global Video of the Week i...</td>\n",
       "      <td>None</td>\n",
       "      <td>2023-08-07T20:26:19Z</td>\n",
       "      <td>2616</td>\n",
       "      <td>147</td>\n",
       "      <td>None</td>\n",
       "      <td>5</td>\n",
       "      <td>PT15S</td>\n",
       "      <td>hd</td>\n",
       "      <td>false</td>\n",
       "    </tr>\n",
       "    <tr>\n",
       "      <th>2</th>\n",
       "      <td>l_48xuKTbCM</td>\n",
       "      <td>Vevo</td>\n",
       "      <td>Watch Khalid Set The Mood</td>\n",
       "      <td>Can you guess @khalid's go-to karaoke song? Se...</td>\n",
       "      <td>None</td>\n",
       "      <td>2023-08-02T17:17:15Z</td>\n",
       "      <td>5624</td>\n",
       "      <td>193</td>\n",
       "      <td>None</td>\n",
       "      <td>22</td>\n",
       "      <td>PT19S</td>\n",
       "      <td>hd</td>\n",
       "      <td>false</td>\n",
       "    </tr>\n",
       "    <tr>\n",
       "      <th>3</th>\n",
       "      <td>s9dAmXl4xJA</td>\n",
       "      <td>Vevo</td>\n",
       "      <td>Global Video of the Week: @jessieware, @roisin...</td>\n",
       "      <td></td>\n",
       "      <td>None</td>\n",
       "      <td>2023-07-31T21:36:34Z</td>\n",
       "      <td>5068</td>\n",
       "      <td>158</td>\n",
       "      <td>None</td>\n",
       "      <td>3</td>\n",
       "      <td>PT15S</td>\n",
       "      <td>hd</td>\n",
       "      <td>false</td>\n",
       "    </tr>\n",
       "    <tr>\n",
       "      <th>4</th>\n",
       "      <td>dTimjJ86Khc</td>\n",
       "      <td>Vevo</td>\n",
       "      <td>Hip-Hop Video Weekly | Ice Spice \"Deli\"</td>\n",
       "      <td>​@IceSpice,  @TravisScottXX,  @ASAPROCKYUPTOWN...</td>\n",
       "      <td>None</td>\n",
       "      <td>2023-07-31T21:32:31Z</td>\n",
       "      <td>8856</td>\n",
       "      <td>214</td>\n",
       "      <td>None</td>\n",
       "      <td>7</td>\n",
       "      <td>PT15S</td>\n",
       "      <td>hd</td>\n",
       "      <td>false</td>\n",
       "    </tr>\n",
       "    <tr>\n",
       "      <th>...</th>\n",
       "      <td>...</td>\n",
       "      <td>...</td>\n",
       "      <td>...</td>\n",
       "      <td>...</td>\n",
       "      <td>...</td>\n",
       "      <td>...</td>\n",
       "      <td>...</td>\n",
       "      <td>...</td>\n",
       "      <td>...</td>\n",
       "      <td>...</td>\n",
       "      <td>...</td>\n",
       "      <td>...</td>\n",
       "      <td>...</td>\n",
       "    </tr>\n",
       "    <tr>\n",
       "      <th>1531</th>\n",
       "      <td>nbRw70D0Zvc</td>\n",
       "      <td>Vevo</td>\n",
       "      <td>Various Artists - We Are The World 25 for Hait...</td>\n",
       "      <td>Music video by Various Artists performing We A...</td>\n",
       "      <td>[Various, Artists, Sony, Music, Entertainment]</td>\n",
       "      <td>2010-02-12T20:54:01Z</td>\n",
       "      <td>264628</td>\n",
       "      <td>614</td>\n",
       "      <td>None</td>\n",
       "      <td>40</td>\n",
       "      <td>PT44S</td>\n",
       "      <td>sd</td>\n",
       "      <td>false</td>\n",
       "    </tr>\n",
       "    <tr>\n",
       "      <th>1532</th>\n",
       "      <td>6oXtClr0aKs</td>\n",
       "      <td>Vevo</td>\n",
       "      <td>Various Artists - We Are The World 25 for Hait...</td>\n",
       "      <td>Music video by Various Artists performing We A...</td>\n",
       "      <td>[Various, Artists, Sony, Music, Entertainment]</td>\n",
       "      <td>2010-02-12T20:31:45Z</td>\n",
       "      <td>289235</td>\n",
       "      <td>799</td>\n",
       "      <td>None</td>\n",
       "      <td>54</td>\n",
       "      <td>PT1M6S</td>\n",
       "      <td>sd</td>\n",
       "      <td>false</td>\n",
       "    </tr>\n",
       "    <tr>\n",
       "      <th>1533</th>\n",
       "      <td>dMo8JuPPb0M</td>\n",
       "      <td>Vevo</td>\n",
       "      <td>Adam Lambert - Adam Lambert's VEVO Hotel Party</td>\n",
       "      <td>Music video by Adam Lambert performing Adam La...</td>\n",
       "      <td>[Adam, Lambert, Epic, Pop]</td>\n",
       "      <td>2010-01-15T19:36:26Z</td>\n",
       "      <td>539430</td>\n",
       "      <td>2624</td>\n",
       "      <td>None</td>\n",
       "      <td>566</td>\n",
       "      <td>PT1M46S</td>\n",
       "      <td>hd</td>\n",
       "      <td>false</td>\n",
       "    </tr>\n",
       "    <tr>\n",
       "      <th>1534</th>\n",
       "      <td>TjmRxdkLmsk</td>\n",
       "      <td>Vevo</td>\n",
       "      <td>Mariah Carey - Mariah Carey Sings H.A.T.E.U. f...</td>\n",
       "      <td>Music video by Mariah Carey performing Mariah ...</td>\n",
       "      <td>[Mariah, Carey, Epic, Pop]</td>\n",
       "      <td>2010-01-15T16:54:38Z</td>\n",
       "      <td>380371</td>\n",
       "      <td>4510</td>\n",
       "      <td>None</td>\n",
       "      <td>208</td>\n",
       "      <td>PT32S</td>\n",
       "      <td>hd</td>\n",
       "      <td>false</td>\n",
       "    </tr>\n",
       "    <tr>\n",
       "      <th>1535</th>\n",
       "      <td>yPneV7999Ts</td>\n",
       "      <td>Vevo</td>\n",
       "      <td>These Are The Breaks</td>\n",
       "      <td>Music video by Various Artists performing Thes...</td>\n",
       "      <td>[Various, Artists, Epic]</td>\n",
       "      <td>2009-12-31T17:14:56Z</td>\n",
       "      <td>302465</td>\n",
       "      <td>1158</td>\n",
       "      <td>None</td>\n",
       "      <td>362</td>\n",
       "      <td>PT3M29S</td>\n",
       "      <td>sd</td>\n",
       "      <td>false</td>\n",
       "    </tr>\n",
       "  </tbody>\n",
       "</table>\n",
       "<p>1536 rows × 13 columns</p>\n",
       "</div>"
      ],
      "text/plain": [
       "         video_id channelTitle  \\\n",
       "0     yh6WxdKr94A         Vevo   \n",
       "1     zUfOsfBgiOk         Vevo   \n",
       "2     l_48xuKTbCM         Vevo   \n",
       "3     s9dAmXl4xJA         Vevo   \n",
       "4     dTimjJ86Khc         Vevo   \n",
       "...           ...          ...   \n",
       "1531  nbRw70D0Zvc         Vevo   \n",
       "1532  6oXtClr0aKs         Vevo   \n",
       "1533  dMo8JuPPb0M         Vevo   \n",
       "1534  TjmRxdkLmsk         Vevo   \n",
       "1535  yPneV7999Ts         Vevo   \n",
       "\n",
       "                                                  title  \\\n",
       "0     Hip-Hop Video Weekly: Doja Cat \"Paint The Town...   \n",
       "1               Global Video of the Week: Halle \"Angel\"   \n",
       "2                             Watch Khalid Set The Mood   \n",
       "3     Global Video of the Week: @jessieware, @roisin...   \n",
       "4               Hip-Hop Video Weekly | Ice Spice \"Deli\"   \n",
       "...                                                 ...   \n",
       "1531  Various Artists - We Are The World 25 for Hait...   \n",
       "1532  Various Artists - We Are The World 25 for Hait...   \n",
       "1533     Adam Lambert - Adam Lambert's VEVO Hotel Party   \n",
       "1534  Mariah Carey - Mariah Carey Sings H.A.T.E.U. f...   \n",
       "1535                               These Are The Breaks   \n",
       "\n",
       "                                            description  \\\n",
       "0     Our latest Hip-Hop Video Weekly round-up featu...   \n",
       "1     Our latest pick for Global Video of the Week i...   \n",
       "2     Can you guess @khalid's go-to karaoke song? Se...   \n",
       "3                                                         \n",
       "4     ​@IceSpice,  @TravisScottXX,  @ASAPROCKYUPTOWN...   \n",
       "...                                                 ...   \n",
       "1531  Music video by Various Artists performing We A...   \n",
       "1532  Music video by Various Artists performing We A...   \n",
       "1533  Music video by Adam Lambert performing Adam La...   \n",
       "1534  Music video by Mariah Carey performing Mariah ...   \n",
       "1535  Music video by Various Artists performing Thes...   \n",
       "\n",
       "                                                tags           publishedAt  \\\n",
       "0                                               None  2023-08-07T23:30:11Z   \n",
       "1                                               None  2023-08-07T20:26:19Z   \n",
       "2                                               None  2023-08-02T17:17:15Z   \n",
       "3                                               None  2023-07-31T21:36:34Z   \n",
       "4                                               None  2023-07-31T21:32:31Z   \n",
       "...                                              ...                   ...   \n",
       "1531  [Various, Artists, Sony, Music, Entertainment]  2010-02-12T20:54:01Z   \n",
       "1532  [Various, Artists, Sony, Music, Entertainment]  2010-02-12T20:31:45Z   \n",
       "1533                      [Adam, Lambert, Epic, Pop]  2010-01-15T19:36:26Z   \n",
       "1534                      [Mariah, Carey, Epic, Pop]  2010-01-15T16:54:38Z   \n",
       "1535                        [Various, Artists, Epic]  2009-12-31T17:14:56Z   \n",
       "\n",
       "     viewCount likeCount favouriteCount commentCount duration definition  \\\n",
       "0         4630       178           None            9    PT15S         hd   \n",
       "1         2616       147           None            5    PT15S         hd   \n",
       "2         5624       193           None           22    PT19S         hd   \n",
       "3         5068       158           None            3    PT15S         hd   \n",
       "4         8856       214           None            7    PT15S         hd   \n",
       "...        ...       ...            ...          ...      ...        ...   \n",
       "1531    264628       614           None           40    PT44S         sd   \n",
       "1532    289235       799           None           54   PT1M6S         sd   \n",
       "1533    539430      2624           None          566  PT1M46S         hd   \n",
       "1534    380371      4510           None          208    PT32S         hd   \n",
       "1535    302465      1158           None          362  PT3M29S         sd   \n",
       "\n",
       "     caption  \n",
       "0      false  \n",
       "1      false  \n",
       "2      false  \n",
       "3      false  \n",
       "4      false  \n",
       "...      ...  \n",
       "1531   false  \n",
       "1532   false  \n",
       "1533   false  \n",
       "1534   false  \n",
       "1535   false  \n",
       "\n",
       "[1536 rows x 13 columns]"
      ]
     },
     "execution_count": 24,
     "metadata": {},
     "output_type": "execute_result"
    }
   ],
   "source": [
    "video_df = get_video_details(youtube, video_ids)\n",
    "\n",
    "video_df"
   ]
  },
  {
   "cell_type": "markdown",
   "metadata": {},
   "source": [
    "# Data Pre-processing"
   ]
  },
  {
   "cell_type": "code",
   "execution_count": 14,
   "metadata": {},
   "outputs": [
    {
     "data": {
      "text/plain": [
       "video_id          False\n",
       "channelTitle      False\n",
       "title             False\n",
       "description       False\n",
       "tags               True\n",
       "publishedAt       False\n",
       "viewCount         False\n",
       "likeCount          True\n",
       "favouriteCount     True\n",
       "commentCount       True\n",
       "duration          False\n",
       "definition        False\n",
       "caption           False\n",
       "dtype: bool"
      ]
     },
     "execution_count": 14,
     "metadata": {},
     "output_type": "execute_result"
    }
   ],
   "source": [
    "video_df.isnull().any()"
   ]
  },
  {
   "cell_type": "code",
   "execution_count": 15,
   "metadata": {},
   "outputs": [
    {
     "data": {
      "text/plain": [
       "video_id          object\n",
       "channelTitle      object\n",
       "title             object\n",
       "description       object\n",
       "tags              object\n",
       "publishedAt       object\n",
       "viewCount         object\n",
       "likeCount         object\n",
       "favouriteCount    object\n",
       "commentCount      object\n",
       "duration          object\n",
       "definition        object\n",
       "caption           object\n",
       "dtype: object"
      ]
     },
     "execution_count": 15,
     "metadata": {},
     "output_type": "execute_result"
    }
   ],
   "source": [
    "video_df.dtypes"
   ]
  },
  {
   "cell_type": "code",
   "execution_count": 25,
   "metadata": {},
   "outputs": [],
   "source": [
    "numeric_cols = ['viewCount', 'likeCount', 'favouriteCount', 'commentCount']\n",
    "video_df[numeric_cols] = video_df[numeric_cols].apply(pd.to_numeric, errors = 'coerce', axis = 1)"
   ]
  },
  {
   "cell_type": "code",
   "execution_count": 54,
   "metadata": {},
   "outputs": [
    {
     "data": {
      "text/plain": [
       "0       2023-08-07\n",
       "1       2023-08-07\n",
       "2       2023-08-02\n",
       "3       2023-07-31\n",
       "4       2023-07-31\n",
       "           ...    \n",
       "1531    2010-02-12\n",
       "1532    2010-02-12\n",
       "1533    2010-01-15\n",
       "1534    2010-01-15\n",
       "1535    2009-12-31\n",
       "Name: publishedAt, Length: 1536, dtype: object"
      ]
     },
     "execution_count": 54,
     "metadata": {},
     "output_type": "execute_result"
    }
   ],
   "source": [
    "video_df['publishedAt'] = pd.to_datetime(video_df['publishedAt'], format='%d %B %Y').dt.date\n",
    "\n",
    "\n",
    "video_df['publishedAt']"
   ]
  },
  {
   "cell_type": "code",
   "execution_count": null,
   "metadata": {},
   "outputs": [],
   "source": [
    "video_df['durationSecs'] = video_df['duration'].apply(lambda x: isodate.parse_duration(x))"
   ]
  },
  {
   "cell_type": "code",
   "execution_count": 43,
   "metadata": {},
   "outputs": [
    {
     "data": {
      "text/plain": [
       "0      0 days 00:00:15\n",
       "1      0 days 00:00:15\n",
       "2      0 days 00:00:19\n",
       "3      0 days 00:00:15\n",
       "4      0 days 00:00:15\n",
       "             ...      \n",
       "1531   0 days 00:00:44\n",
       "1532   0 days 00:01:06\n",
       "1533   0 days 00:01:46\n",
       "1534   0 days 00:00:32\n",
       "1535   0 days 00:03:29\n",
       "Name: durationSecs, Length: 1536, dtype: timedelta64[s]"
      ]
     },
     "execution_count": 43,
     "metadata": {},
     "output_type": "execute_result"
    }
   ],
   "source": [
    "video_df['durationSecs'] = video_df['durationSecs'].astype('timedelta64[s]')\n",
    "video_df['durationSecs']"
   ]
  },
  {
   "cell_type": "code",
   "execution_count": 32,
   "metadata": {},
   "outputs": [],
   "source": [
    "video_df['tagCount'] = video_df['tags'].apply(lambda x: 0 if x is None else len(x))"
   ]
  },
  {
   "cell_type": "code",
   "execution_count": 56,
   "metadata": {},
   "outputs": [],
   "source": [
    "\n",
    "ruta = ''\n",
    "nombre_archivo = 'datosYoutube.xlsx'\n",
    "ruta_archivo = ruta + nombre_archivo\n",
    "\n",
    "\n",
    "video_df.to_excel(ruta_archivo, index = False)"
   ]
  }
 ],
 "metadata": {
  "kernelspec": {
   "display_name": "Python 3",
   "language": "python",
   "name": "python3"
  },
  "language_info": {
   "codemirror_mode": {
    "name": "ipython",
    "version": 3
   },
   "file_extension": ".py",
   "mimetype": "text/x-python",
   "name": "python",
   "nbconvert_exporter": "python",
   "pygments_lexer": "ipython3",
   "version": "3.11.3"
  },
  "orig_nbformat": 4
 },
 "nbformat": 4,
 "nbformat_minor": 2
}
